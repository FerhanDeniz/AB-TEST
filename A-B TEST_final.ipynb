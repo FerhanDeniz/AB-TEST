{
 "cells": [
  {
   "cell_type": "markdown",
   "id": "601e6671",
   "metadata": {},
   "source": [
    "**A/B Testing for Real Ads Data**\n",
    "\n",
    "X Company recently introduced a new type of bidding, average bidding, as an alternative to the current type of bidding called maximum bidding.We want to understand which option is more advantageous.\n",
    "\n",
    "Which of these two options will increase amount of purchases?\n",
    "\n",
    "Is there a significant difference between the two options?\n",
    "\n",
    "To find the answer to these questions, we are applying the A/B Test.\n",
    "\n",
    "In this dataset you can find the analysis result of comparison of these two product regarding observations in last 30 days.\n",
    "\n",
    "**Impression** : Ad impressions\n",
    "\n",
    "**Click** : Number of clicks on the displayed ad\n",
    "\n",
    "**Purchase** : The number of products purchased after the ads clicked\n",
    "\n",
    "**Earning**: Earnings after purchased products"
   ]
  },
  {
   "cell_type": "code",
   "execution_count": 4,
   "id": "b28d7592",
   "metadata": {},
   "outputs": [],
   "source": [
    "#importing libraries\n",
    "import os\n",
    "os.getcwd()\n",
    "import pandas as pd\n",
    "import numpy as np\n",
    "import pandas as pd\n",
    "import seaborn as sns\n",
    "import matplotlib.pyplot as plt\n",
    "from scipy.stats import shapiro, levene, ttest_ind\n",
    "import statsmodels.stats.api as sms\n",
    "from scipy.stats import ttest_1samp, shapiro, levene, ttest_ind, mannwhitneyu, \\\n",
    "    pearsonr, spearmanr, kendalltau, f_oneway, kruskal\n",
    "from statsmodels.stats.proportion import proportions_ztest\n"
   ]
  },
  {
   "cell_type": "code",
   "execution_count": 5,
   "id": "d889eaaf",
   "metadata": {},
   "outputs": [],
   "source": [
    "\n",
    "df_control = pd.read_excel(\"ab_testing.xlsx\", sheet_name=\"Control Group\")\n",
    "df_test = pd.read_excel(\"ab_testing.xlsx\", sheet_name=\"Test Group\")"
   ]
  },
  {
   "cell_type": "code",
   "execution_count": 8,
   "id": "8d7d4964",
   "metadata": {},
   "outputs": [],
   "source": [
    "#lets check control and test group data's."
   ]
  },
  {
   "cell_type": "code",
   "execution_count": 6,
   "id": "85bcf856",
   "metadata": {},
   "outputs": [],
   "source": [
    "def check_df(dataframe, head=5):\n",
    "    print(\"##################### Shape #####################\")\n",
    "    print(dataframe.shape)\n",
    "    print(\"##################### Types #####################\")\n",
    "    print(dataframe.dtypes)\n",
    "    print(\"##################### Head #####################\")\n",
    "    print(dataframe.head())\n",
    "    print(\"##################### Tail #####################\")\n",
    "    print(dataframe.tail())\n",
    "    print(\"##################### NA #####################\")\n",
    "    print(dataframe.isnull().sum())\n",
    "    print(\"##################### Quantiles #####################\")\n",
    "    print(dataframe.quantile([0, 0.05, 0.50, 0.95, 0.99, 1]).T)\n",
    "\n"
   ]
  },
  {
   "cell_type": "code",
   "execution_count": 7,
   "id": "dca5e5ad",
   "metadata": {},
   "outputs": [
    {
     "name": "stdout",
     "output_type": "stream",
     "text": [
      "##################### Shape #####################\n",
      "(40, 4)\n",
      "##################### Types #####################\n",
      "Impression    float64\n",
      "Click         float64\n",
      "Purchase      float64\n",
      "Earning       float64\n",
      "dtype: object\n",
      "##################### Head #####################\n",
      "      Impression        Click    Purchase      Earning\n",
      "0   82529.459271  6090.077317  665.211255  2311.277143\n",
      "1   98050.451926  3382.861786  315.084895  1742.806855\n",
      "2   82696.023549  4167.965750  458.083738  1797.827447\n",
      "3  109914.400398  4910.882240  487.090773  1696.229178\n",
      "4  108457.762630  5987.655811  441.034050  1543.720179\n",
      "##################### Tail #####################\n",
      "       Impression        Click    Purchase      Earning\n",
      "35  132064.219003  3747.157544  551.072406  2256.975589\n",
      "36   86409.941796  4608.256205  345.046033  1781.357690\n",
      "37  123678.934234  3649.073787  476.168128  2187.721217\n",
      "38  101997.494099  4736.353369  474.613537  2254.563834\n",
      "39  121085.881220  4285.178608  590.406020  1289.308948\n",
      "##################### NA #####################\n",
      "Impression    0\n",
      "Click         0\n",
      "Purchase      0\n",
      "Earning       0\n",
      "dtype: int64\n",
      "##################### Quantiles #####################\n",
      "                    0.00          0.05          0.50           0.95  \\\n",
      "Impression  45475.942965  79412.017920  99790.701078  132950.532455   \n",
      "Click        2189.753157   3367.484257   5001.220602    7374.361202   \n",
      "Purchase      267.028943    328.662425    531.206307     748.270761   \n",
      "Earning      1253.989525   1329.577082   1975.160522    2318.528498   \n",
      "\n",
      "                     0.99           1.00  \n",
      "Impression  143105.791105  147539.336329  \n",
      "Click         7761.795112    7959.125069  \n",
      "Purchase       790.187785     801.795020  \n",
      "Earning       2481.308737    2497.295218  \n"
     ]
    }
   ],
   "source": [
    "# Control Group (Maximum bidding)\n",
    "check_df(df_control)\n"
   ]
  },
  {
   "cell_type": "code",
   "execution_count": 12,
   "id": "c0cb3d80",
   "metadata": {},
   "outputs": [
    {
     "name": "stdout",
     "output_type": "stream",
     "text": [
      "##################### Shape #####################\n",
      "(40, 4)\n",
      "##################### Types #####################\n",
      "Impression    float64\n",
      "Click         float64\n",
      "Purchase      float64\n",
      "Earning       float64\n",
      "dtype: object\n",
      "##################### Head #####################\n",
      "      Impression        Click    Purchase      Earning\n",
      "0  120103.503796  3216.547958  702.160346  1939.611243\n",
      "1  134775.943363  3635.082422  834.054286  2929.405820\n",
      "2  107806.620788  3057.143560  422.934258  2526.244877\n",
      "3  116445.275526  4650.473911  429.033535  2281.428574\n",
      "4  145082.516838  5201.387724  749.860442  2781.697521\n",
      "##################### Tail #####################\n",
      "       Impression        Click    Purchase      Earning\n",
      "35   79234.911929  6002.213585  382.047116  2277.863984\n",
      "36  130702.239410  3626.320072  449.824592  2530.841327\n",
      "37  116481.873365  4702.782468  472.453725  2597.917632\n",
      "38   79033.834921  4495.428177  425.359102  2595.857880\n",
      "39  102257.454089  4800.068321  521.310729  2967.518390\n",
      "##################### NA #####################\n",
      "Impression    0\n",
      "Click         0\n",
      "Purchase      0\n",
      "Earning       0\n",
      "dtype: int64\n",
      "##################### Quantiles #####################\n",
      "                    0.00          0.05           0.50           0.95  \\\n",
      "Impression  79033.834921  83150.503777  119291.300775  153178.691063   \n",
      "Click        1836.629861   2600.361018    3931.359804    5271.186906   \n",
      "Purchase      311.629515    356.695400     551.355732     854.208945   \n",
      "Earning      1939.611243   2080.976213    2544.666107    2931.311449   \n",
      "\n",
      "                     0.99           1.00  \n",
      "Impression  158245.263797  158605.920483  \n",
      "Click         6012.877296    6019.695079  \n",
      "Purchase       876.576104     889.910460  \n",
      "Earning       3091.940894    3171.489708  \n"
     ]
    }
   ],
   "source": [
    "# Test Goup (Average_bidding)\n",
    "check_df(df_test)"
   ]
  },
  {
   "cell_type": "code",
   "execution_count": 8,
   "id": "9c588c89",
   "metadata": {},
   "outputs": [
    {
     "data": {
      "text/plain": [
       "<AxesSubplot:title={'center':'Test-Purchase Mean'}, xlabel='Purchase'>"
      ]
     },
     "execution_count": 8,
     "metadata": {},
     "output_type": "execute_result"
    },
    {
     "data": {
      "image/png": "[encoded data removed]",
      "text/plain": [
       "<Figure size 432x288 with 2 Axes>"
      ]
     },
     "metadata": {
      "needs_background": "light"
     },
     "output_type": "display_data"
    }
   ],
   "source": [
    "f, axes = plt.subplots(1, 2)\n",
    "axes[0].set_title('Control-Purchase Mean')\n",
    "axes[1].set_title('Test-Purchase Mean')\n",
    "sns.boxplot(x='Purchase',data=df_control,ax=axes[0])\n",
    "sns.boxplot(x='Purchase',data=df_test,ax=axes[1])"
   ]
  },
  {
   "cell_type": "code",
   "execution_count": 18,
   "id": "e2ba375b",
   "metadata": {},
   "outputs": [],
   "source": [
    "df_control[\"group\"] = \"control\"\n",
    "\n",
    "df_test[\"group\"] = \"test\""
   ]
  },
  {
   "cell_type": "code",
   "execution_count": 30,
   "id": "b16e9975",
   "metadata": {
    "scrolled": true
   },
   "outputs": [
    {
     "data": {
      "text/html": [
       "<div>\n",
       "<style scoped>\n",
       "    .dataframe tbody tr th:only-of-type {\n",
       "        vertical-align: middle;\n",
       "    }\n",
       "\n",
       "    .dataframe tbody tr th {\n",
       "        vertical-align: top;\n",
       "    }\n",
       "\n",
       "    .dataframe thead th {\n",
       "        text-align: right;\n",
       "    }\n",
       "</style>\n",
       "<table border=\"1\" class=\"dataframe\">\n",
       "  <thead>\n",
       "    <tr style=\"text-align: right;\">\n",
       "      <th></th>\n",
       "      <th>Impression</th>\n",
       "      <th>Click</th>\n",
       "      <th>Purchase</th>\n",
       "      <th>Earning</th>\n",
       "      <th>group</th>\n",
       "    </tr>\n",
       "  </thead>\n",
       "  <tbody>\n",
       "    <tr>\n",
       "      <th>0</th>\n",
       "      <td>82529.459271</td>\n",
       "      <td>6090.077317</td>\n",
       "      <td>665.211255</td>\n",
       "      <td>2311.277143</td>\n",
       "      <td>control</td>\n",
       "    </tr>\n",
       "    <tr>\n",
       "      <th>1</th>\n",
       "      <td>98050.451926</td>\n",
       "      <td>3382.861786</td>\n",
       "      <td>315.084895</td>\n",
       "      <td>1742.806855</td>\n",
       "      <td>control</td>\n",
       "    </tr>\n",
       "    <tr>\n",
       "      <th>2</th>\n",
       "      <td>82696.023549</td>\n",
       "      <td>4167.965750</td>\n",
       "      <td>458.083738</td>\n",
       "      <td>1797.827447</td>\n",
       "      <td>control</td>\n",
       "    </tr>\n",
       "    <tr>\n",
       "      <th>3</th>\n",
       "      <td>109914.400398</td>\n",
       "      <td>4910.882240</td>\n",
       "      <td>487.090773</td>\n",
       "      <td>1696.229178</td>\n",
       "      <td>control</td>\n",
       "    </tr>\n",
       "    <tr>\n",
       "      <th>4</th>\n",
       "      <td>108457.762630</td>\n",
       "      <td>5987.655811</td>\n",
       "      <td>441.034050</td>\n",
       "      <td>1543.720179</td>\n",
       "      <td>control</td>\n",
       "    </tr>\n",
       "  </tbody>\n",
       "</table>\n",
       "</div>"
      ],
      "text/plain": [
       "      Impression        Click    Purchase      Earning    group\n",
       "0   82529.459271  6090.077317  665.211255  2311.277143  control\n",
       "1   98050.451926  3382.861786  315.084895  1742.806855  control\n",
       "2   82696.023549  4167.965750  458.083738  1797.827447  control\n",
       "3  109914.400398  4910.882240  487.090773  1696.229178  control\n",
       "4  108457.762630  5987.655811  441.034050  1543.720179  control"
      ]
     },
     "execution_count": 30,
     "metadata": {},
     "output_type": "execute_result"
    }
   ],
   "source": [
    "df = pd.concat([df_control,df_test], axis=0,ignore_index=False)\n",
    "df.head()\n"
   ]
  },
  {
   "cell_type": "code",
   "execution_count": 31,
   "id": "d9f7b953",
   "metadata": {},
   "outputs": [
    {
     "data": {
      "text/html": [
       "<div>\n",
       "<style scoped>\n",
       "    .dataframe tbody tr th:only-of-type {\n",
       "        vertical-align: middle;\n",
       "    }\n",
       "\n",
       "    .dataframe tbody tr th {\n",
       "        vertical-align: top;\n",
       "    }\n",
       "\n",
       "    .dataframe thead th {\n",
       "        text-align: right;\n",
       "    }\n",
       "</style>\n",
       "<table border=\"1\" class=\"dataframe\">\n",
       "  <thead>\n",
       "    <tr style=\"text-align: right;\">\n",
       "      <th></th>\n",
       "      <th>Impression</th>\n",
       "      <th>Click</th>\n",
       "      <th>Purchase</th>\n",
       "      <th>Earning</th>\n",
       "      <th>group</th>\n",
       "    </tr>\n",
       "  </thead>\n",
       "  <tbody>\n",
       "    <tr>\n",
       "      <th>35</th>\n",
       "      <td>79234.911929</td>\n",
       "      <td>6002.213585</td>\n",
       "      <td>382.047116</td>\n",
       "      <td>2277.863984</td>\n",
       "      <td>test</td>\n",
       "    </tr>\n",
       "    <tr>\n",
       "      <th>36</th>\n",
       "      <td>130702.239410</td>\n",
       "      <td>3626.320072</td>\n",
       "      <td>449.824592</td>\n",
       "      <td>2530.841327</td>\n",
       "      <td>test</td>\n",
       "    </tr>\n",
       "    <tr>\n",
       "      <th>37</th>\n",
       "      <td>116481.873365</td>\n",
       "      <td>4702.782468</td>\n",
       "      <td>472.453725</td>\n",
       "      <td>2597.917632</td>\n",
       "      <td>test</td>\n",
       "    </tr>\n",
       "    <tr>\n",
       "      <th>38</th>\n",
       "      <td>79033.834921</td>\n",
       "      <td>4495.428177</td>\n",
       "      <td>425.359102</td>\n",
       "      <td>2595.857880</td>\n",
       "      <td>test</td>\n",
       "    </tr>\n",
       "    <tr>\n",
       "      <th>39</th>\n",
       "      <td>102257.454089</td>\n",
       "      <td>4800.068321</td>\n",
       "      <td>521.310729</td>\n",
       "      <td>2967.518390</td>\n",
       "      <td>test</td>\n",
       "    </tr>\n",
       "  </tbody>\n",
       "</table>\n",
       "</div>"
      ],
      "text/plain": [
       "       Impression        Click    Purchase      Earning group\n",
       "35   79234.911929  6002.213585  382.047116  2277.863984  test\n",
       "36  130702.239410  3626.320072  449.824592  2530.841327  test\n",
       "37  116481.873365  4702.782468  472.453725  2597.917632  test\n",
       "38   79033.834921  4495.428177  425.359102  2595.857880  test\n",
       "39  102257.454089  4800.068321  521.310729  2967.518390  test"
      ]
     },
     "execution_count": 31,
     "metadata": {},
     "output_type": "execute_result"
    }
   ],
   "source": [
    "df.tail()"
   ]
  },
  {
   "cell_type": "markdown",
   "id": "4ecc97ef",
   "metadata": {},
   "source": [
    "**Define the Hypothesis of A-B Test**\n",
    "\n",
    "H0: There is no statistically significant difference between the purchasing amounts of the two groups ( μ1=μ2 )\n",
    "\n",
    "H1: There is statistically significant differences between the purchasing amounts of the two groups (μ1 ≠ μ2 )"
   ]
  },
  {
   "cell_type": "code",
   "execution_count": 32,
   "id": "3559bfb3",
   "metadata": {},
   "outputs": [
    {
     "data": {
      "text/html": [
       "<div>\n",
       "<style scoped>\n",
       "    .dataframe tbody tr th:only-of-type {\n",
       "        vertical-align: middle;\n",
       "    }\n",
       "\n",
       "    .dataframe tbody tr th {\n",
       "        vertical-align: top;\n",
       "    }\n",
       "\n",
       "    .dataframe thead th {\n",
       "        text-align: right;\n",
       "    }\n",
       "</style>\n",
       "<table border=\"1\" class=\"dataframe\">\n",
       "  <thead>\n",
       "    <tr style=\"text-align: right;\">\n",
       "      <th></th>\n",
       "      <th>Purchase</th>\n",
       "    </tr>\n",
       "    <tr>\n",
       "      <th>group</th>\n",
       "      <th></th>\n",
       "    </tr>\n",
       "  </thead>\n",
       "  <tbody>\n",
       "    <tr>\n",
       "      <th>control</th>\n",
       "      <td>550.894059</td>\n",
       "    </tr>\n",
       "    <tr>\n",
       "      <th>test</th>\n",
       "      <td>582.106097</td>\n",
       "    </tr>\n",
       "  </tbody>\n",
       "</table>\n",
       "</div>"
      ],
      "text/plain": [
       "           Purchase\n",
       "group              \n",
       "control  550.894059\n",
       "test     582.106097"
      ]
     },
     "execution_count": 32,
     "metadata": {},
     "output_type": "execute_result"
    }
   ],
   "source": [
    "df.groupby(\"group\").agg({\"Purchase\": \"mean\"})"
   ]
  },
  {
   "cell_type": "markdown",
   "id": "cb288bb0",
   "metadata": {},
   "source": [
    "**Checking Assumptions**\n",
    "\n",
    "- Normal Distribution\n",
    "\n",
    "- Homogeneity of Variance\n",
    "\n"
   ]
  },
  {
   "cell_type": "markdown",
   "id": "a2b701f6",
   "metadata": {},
   "source": [
    "**Normal Distribution**\n",
    "\n",
    "Shapiro - Wilk Test\n",
    "\n",
    "H0: The data is normally distributed\n",
    "\n",
    "H1: The data is not normally-distributed"
   ]
  },
  {
   "cell_type": "code",
   "execution_count": 12,
   "id": "fa8c905e",
   "metadata": {},
   "outputs": [
    {
     "name": "stderr",
     "output_type": "stream",
     "text": [
      "C:\\Anaconda3\\lib\\site-packages\\seaborn\\distributions.py:2619: FutureWarning: `distplot` is a deprecated function and will be removed in a future version. Please adapt your code to use either `displot` (a figure-level function with similar flexibility) or `kdeplot` (an axes-level function for kernel density plots).\n",
      "  warnings.warn(msg, FutureWarning)\n",
      "C:\\Anaconda3\\lib\\site-packages\\seaborn\\distributions.py:2619: FutureWarning: `distplot` is a deprecated function and will be removed in a future version. Please adapt your code to use either `displot` (a figure-level function with similar flexibility) or `kdeplot` (an axes-level function for kernel density plots).\n",
      "  warnings.warn(msg, FutureWarning)\n"
     ]
    },
    {
     "data": {
      "image/png": "[encoded data removed]",
      "text/plain": [
       "<Figure size 720x252 with 2 Axes>"
      ]
     },
     "metadata": {
      "needs_background": "light"
     },
     "output_type": "display_data"
    }
   ],
   "source": [
    "fig, ax = plt.subplots(1,2)\n",
    "fig.set_figheight(3.5)\n",
    "fig.set_figwidth(10)\n",
    "sns.distplot (df_control['Purchase'], hist=False,ax=ax[0])\n",
    "sns.distplot (df_test['Purchase'], hist=False,ax=ax[1])\n",
    "ax[0].set_title('Control')\n",
    "ax[1].set_title('Test')\n",
    "plt.show(block=True)"
   ]
  },
  {
   "cell_type": "code",
   "execution_count": 33,
   "id": "2eef3d1b",
   "metadata": {},
   "outputs": [
    {
     "name": "stdout",
     "output_type": "stream",
     "text": [
      "Test Stat = 0.9773, p-value = 0.5891\n"
     ]
    }
   ],
   "source": [
    "# Control Group\n",
    "\n",
    "test_stat, pvalue = shapiro(df.loc[df[\"group\"] == \"control\", \"Purchase\"])\n",
    "print('Test Stat = %.4f, p-value = %.4f' % (test_stat, pvalue))"
   ]
  },
  {
   "cell_type": "markdown",
   "id": "f18f7023",
   "metadata": {},
   "source": [
    "For the Control Group (p-value>.05) it tells us that the distribution of the sample is not significantly different from a normal distribution."
   ]
  },
  {
   "cell_type": "code",
   "execution_count": 35,
   "id": "495446d3",
   "metadata": {},
   "outputs": [
    {
     "name": "stdout",
     "output_type": "stream",
     "text": [
      "Test Stat = 0.9589, p-value = 0.1541\n"
     ]
    }
   ],
   "source": [
    "#Test Group\n",
    "\n",
    "test_stat, pvalue = shapiro(df.loc[df[\"group\"] == \"test\", \"Purchase\"])\n",
    "print('Test Stat = %.4f, p-value = %.4f' % (test_stat, pvalue))"
   ]
  },
  {
   "cell_type": "markdown",
   "id": "683d47f2",
   "metadata": {},
   "source": [
    "For the Test Group (p-value>.05) it tells us that the distribution of the sample is not significantly different from a normal distribution."
   ]
  },
  {
   "cell_type": "markdown",
   "id": "50dc8c61",
   "metadata": {},
   "source": [
    "**Homogeneity of Variance**\n",
    "\n",
    "Levene Test\n",
    "\n",
    "H0:The variance among groups is equal\n",
    "\n",
    "H1:The variance among different groups is not equal "
   ]
  },
  {
   "cell_type": "code",
   "execution_count": 37,
   "id": "646ee26f",
   "metadata": {},
   "outputs": [
    {
     "data": {
      "image/png": "[encoded data removed]",
      "text/plain": [
       "<Figure size 1080x360 with 2 Axes>"
      ]
     },
     "metadata": {
      "needs_background": "light"
     },
     "output_type": "display_data"
    }
   ],
   "source": [
    "from statsmodels.graphics.gofplots import qqplot\n",
    "fig, axs =plt.subplots(1,2,figsize=(15,5))\n",
    "qqplot(np.array(df.loc[df[\"group\"] == \"control\", \"Purchase\"]), line= 's', ax =axs[0])\n",
    "qqplot(np.array(df.loc[df[\"group\"] == \"test\", \"Purchase\"]), line= 's', ax =axs[1])\n",
    "\n",
    "axs[0].set_title('Control Group')\n",
    "axs[1].set_title('Test Group')\n",
    "plt.show()"
   ]
  },
  {
   "cell_type": "code",
   "execution_count": 38,
   "id": "4e0ba0d5",
   "metadata": {},
   "outputs": [
    {
     "name": "stdout",
     "output_type": "stream",
     "text": [
      "Test Stat = 2.6393, p-value = 0.1083\n"
     ]
    }
   ],
   "source": [
    "test_stat, pvalue = levene(df.loc[df[\"group\"] == \"control\", \"Purchase\"],\n",
    "                           df.loc[df[\"group\"] == \"test\", \"Purchase\"])\n",
    "print('Test Stat = %.4f, p-value = %.4f' % (test_stat, pvalue))"
   ]
  },
  {
   "cell_type": "markdown",
   "id": "248eb2ea",
   "metadata": {},
   "source": [
    "Since, p-value>.05, hence we do not reject the null hypothesis. The variance among groups is equal."
   ]
  },
  {
   "cell_type": "markdown",
   "id": "20d53676",
   "metadata": {},
   "source": [
    "As the normality and equal variance of distributions assumptions are satisfied, we can use Independent A-B Test for testing the hypothesis:\n",
    "\n",
    "For A-B test, the hypothesis is as follows:\n",
    "\n",
    "H0: There is no statistically significant difference between the purchasing amounts of the two groups\n",
    "( μ1=μ2 )\n",
    "\n",
    "\n",
    "H1: There is statistically significant differences between the purchasing amounts of the two groups\n",
    "(μ1 ≠ μ2 )"
   ]
  },
  {
   "cell_type": "code",
   "execution_count": 39,
   "id": "ded0a54f",
   "metadata": {},
   "outputs": [
    {
     "name": "stdout",
     "output_type": "stream",
     "text": [
      "Test Stat = -0.9416, p-value = 0.3493\n"
     ]
    }
   ],
   "source": [
    "test_stat, pvalue = ttest_ind(df.loc[df[\"group\"] == \"control\", \"Purchase\"],\n",
    "                              df.loc[df[\"group\"] == \"test\", \"Purchase\"],\n",
    "                              equal_var=True)\n",
    "\n",
    "print('Test Stat = %.4f, p-value = %.4f' % (test_stat, pvalue))"
   ]
  },
  {
   "cell_type": "markdown",
   "id": "33ec4df6",
   "metadata": {},
   "source": [
    "Since, p-value>.05, hence we do not reject the null hypothesis.There is no statistically significant difference between the purchase amounts of the Average Bidding and Maximum Bidding systems."
   ]
  },
  {
   "cell_type": "code",
   "execution_count": null,
   "id": "039a5438",
   "metadata": {},
   "outputs": [],
   "source": []
  }
 ],
 "metadata": {
  "kernelspec": {
   "display_name": "Python 3 (ipykernel)",
   "language": "python",
   "name": "python3"
  },
  "language_info": {
   "codemirror_mode": {
    "name": "ipython",
    "version": 3
   },
   "file_extension": ".py",
   "mimetype": "text/x-python",
   "name": "python",
   "nbconvert_exporter": "python",
   "pygments_lexer": "ipython3",
   "version": "3.9.12"
  }
 },
 "nbformat": 4,
 "nbformat_minor": 5
}
